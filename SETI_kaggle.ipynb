{
 "cells": [
  {
   "cell_type": "code",
   "execution_count": 1,
   "id": "excited-sound",
   "metadata": {
    "_cell_guid": "b1076dfc-b9ad-4769-8c92-a6c4dae69d19",
    "_uuid": "8f2839f25d086af736a60e9eeb907d3b93b6e0e5",
    "execution": {
     "iopub.execute_input": "2021-06-18T07:57:27.184223Z",
     "iopub.status.busy": "2021-06-18T07:57:27.183268Z",
     "iopub.status.idle": "2021-06-18T07:57:27.187221Z",
     "shell.execute_reply": "2021-06-18T07:57:27.186590Z",
     "shell.execute_reply.started": "2021-06-17T08:22:58.875456Z"
    },
    "papermill": {
     "duration": 0.029928,
     "end_time": "2021-06-18T07:57:27.187365",
     "exception": false,
     "start_time": "2021-06-18T07:57:27.157437",
     "status": "completed"
    },
    "tags": []
   },
   "outputs": [],
   "source": [
    "import numpy as np # linear algebra\n",
    "import pandas as pd # data processing, CSV file I/O (e.g. pd.read_csv)"
   ]
  },
  {
   "cell_type": "code",
   "execution_count": 2,
   "id": "religious-likelihood",
   "metadata": {
    "execution": {
     "iopub.execute_input": "2021-06-18T07:57:27.221853Z",
     "iopub.status.busy": "2021-06-18T07:57:27.221190Z",
     "iopub.status.idle": "2021-06-18T07:57:27.585039Z",
     "shell.execute_reply": "2021-06-18T07:57:27.584405Z",
     "shell.execute_reply.started": "2021-06-17T08:22:58.884427Z"
    },
    "papermill": {
     "duration": 0.384188,
     "end_time": "2021-06-18T07:57:27.585197",
     "exception": false,
     "start_time": "2021-06-18T07:57:27.201009",
     "status": "completed"
    },
    "tags": []
   },
   "outputs": [],
   "source": [
    "train_df=pd.read_csv(\"/Users/tarun/kaggle_self/seti-breakthrough-listen/train_labels.csv\")\n",
    "submission=pd.read_csv(\"/Users/tarun/kaggle_self/seti-breakthrough-listen/sample_submission.csv\")\n",
    "leak_train=pd.read_csv(\"/Users/tarun/kaggle_self/leak-seti/leak_train.csv\")\n",
    "leak_test=pd.read_csv(\"/Users/tarun/kaggle_self/leak-seti/leak_test.csv\")\n"
   ]
  },
  {
   "cell_type": "code",
   "execution_count": 3,
   "id": "legislative-windows",
   "metadata": {
    "execution": {
     "iopub.execute_input": "2021-06-18T07:57:27.641808Z",
     "iopub.status.busy": "2021-06-18T07:57:27.637065Z",
     "iopub.status.idle": "2021-06-18T07:57:27.659386Z",
     "shell.execute_reply": "2021-06-18T07:57:27.659951Z",
     "shell.execute_reply.started": "2021-06-17T08:22:59.16471Z"
    },
    "papermill": {
     "duration": 0.06051,
     "end_time": "2021-06-18T07:57:27.660131",
     "exception": false,
     "start_time": "2021-06-18T07:57:27.599621",
     "status": "completed"
    },
    "tags": []
   },
   "outputs": [
    {
     "data": {
      "text/html": [
       "<div>\n",
       "<style scoped>\n",
       "    .dataframe tbody tr th:only-of-type {\n",
       "        vertical-align: middle;\n",
       "    }\n",
       "\n",
       "    .dataframe tbody tr th {\n",
       "        vertical-align: top;\n",
       "    }\n",
       "\n",
       "    .dataframe thead th {\n",
       "        text-align: right;\n",
       "    }\n",
       "</style>\n",
       "<table border=\"1\" class=\"dataframe\">\n",
       "  <thead>\n",
       "    <tr style=\"text-align: right;\">\n",
       "      <th></th>\n",
       "      <th>st_mode</th>\n",
       "      <th>st_ino</th>\n",
       "      <th>st_dev</th>\n",
       "      <th>st_nlink</th>\n",
       "      <th>st_uid</th>\n",
       "      <th>st_gid</th>\n",
       "      <th>st_size=413</th>\n",
       "      <th>st_atime</th>\n",
       "      <th>st_mtime</th>\n",
       "      <th>st_ctime</th>\n",
       "      <th>id</th>\n",
       "    </tr>\n",
       "  </thead>\n",
       "  <tbody>\n",
       "    <tr>\n",
       "      <th>0</th>\n",
       "      <td>33204.0</td>\n",
       "      <td>28550494.0</td>\n",
       "      <td>2050.0</td>\n",
       "      <td>1.0</td>\n",
       "      <td>1001.0</td>\n",
       "      <td>1001.0</td>\n",
       "      <td>838784.0</td>\n",
       "      <td>1.623883e+09</td>\n",
       "      <td>1.620249e+09</td>\n",
       "      <td>1.623224e+09</td>\n",
       "      <td>00034abb3629</td>\n",
       "    </tr>\n",
       "    <tr>\n",
       "      <th>1</th>\n",
       "      <td>33204.0</td>\n",
       "      <td>28548505.0</td>\n",
       "      <td>2050.0</td>\n",
       "      <td>1.0</td>\n",
       "      <td>1001.0</td>\n",
       "      <td>1001.0</td>\n",
       "      <td>838784.0</td>\n",
       "      <td>1.623884e+09</td>\n",
       "      <td>1.620248e+09</td>\n",
       "      <td>1.623224e+09</td>\n",
       "      <td>0004300a0b9b</td>\n",
       "    </tr>\n",
       "    <tr>\n",
       "      <th>2</th>\n",
       "      <td>33204.0</td>\n",
       "      <td>28548561.0</td>\n",
       "      <td>2050.0</td>\n",
       "      <td>1.0</td>\n",
       "      <td>1001.0</td>\n",
       "      <td>1001.0</td>\n",
       "      <td>838784.0</td>\n",
       "      <td>1.623885e+09</td>\n",
       "      <td>1.620248e+09</td>\n",
       "      <td>1.623224e+09</td>\n",
       "      <td>000453852fda</td>\n",
       "    </tr>\n",
       "    <tr>\n",
       "      <th>3</th>\n",
       "      <td>33204.0</td>\n",
       "      <td>28550579.0</td>\n",
       "      <td>2050.0</td>\n",
       "      <td>1.0</td>\n",
       "      <td>1001.0</td>\n",
       "      <td>1001.0</td>\n",
       "      <td>838784.0</td>\n",
       "      <td>1.623884e+09</td>\n",
       "      <td>1.620248e+09</td>\n",
       "      <td>1.623224e+09</td>\n",
       "      <td>00047dfc96a9</td>\n",
       "    </tr>\n",
       "    <tr>\n",
       "      <th>4</th>\n",
       "      <td>33204.0</td>\n",
       "      <td>28548195.0</td>\n",
       "      <td>2050.0</td>\n",
       "      <td>1.0</td>\n",
       "      <td>1001.0</td>\n",
       "      <td>1001.0</td>\n",
       "      <td>838784.0</td>\n",
       "      <td>1.623885e+09</td>\n",
       "      <td>1.620248e+09</td>\n",
       "      <td>1.623224e+09</td>\n",
       "      <td>0004be0baf70</td>\n",
       "    </tr>\n",
       "    <tr>\n",
       "      <th>...</th>\n",
       "      <td>...</td>\n",
       "      <td>...</td>\n",
       "      <td>...</td>\n",
       "      <td>...</td>\n",
       "      <td>...</td>\n",
       "      <td>...</td>\n",
       "      <td>...</td>\n",
       "      <td>...</td>\n",
       "      <td>...</td>\n",
       "      <td>...</td>\n",
       "      <td>...</td>\n",
       "    </tr>\n",
       "    <tr>\n",
       "      <th>50160</th>\n",
       "      <td>33204.0</td>\n",
       "      <td>28596571.0</td>\n",
       "      <td>2050.0</td>\n",
       "      <td>1.0</td>\n",
       "      <td>1001.0</td>\n",
       "      <td>1001.0</td>\n",
       "      <td>838784.0</td>\n",
       "      <td>1.623885e+09</td>\n",
       "      <td>1.620247e+09</td>\n",
       "      <td>1.623224e+09</td>\n",
       "      <td>fff395e32a1e</td>\n",
       "    </tr>\n",
       "    <tr>\n",
       "      <th>50161</th>\n",
       "      <td>33204.0</td>\n",
       "      <td>28595074.0</td>\n",
       "      <td>2050.0</td>\n",
       "      <td>1.0</td>\n",
       "      <td>1001.0</td>\n",
       "      <td>1001.0</td>\n",
       "      <td>838784.0</td>\n",
       "      <td>1.623885e+09</td>\n",
       "      <td>1.620247e+09</td>\n",
       "      <td>1.623224e+09</td>\n",
       "      <td>fff66bbc51db</td>\n",
       "    </tr>\n",
       "    <tr>\n",
       "      <th>50162</th>\n",
       "      <td>33204.0</td>\n",
       "      <td>28596286.0</td>\n",
       "      <td>2050.0</td>\n",
       "      <td>1.0</td>\n",
       "      <td>1001.0</td>\n",
       "      <td>1001.0</td>\n",
       "      <td>838784.0</td>\n",
       "      <td>1.623882e+09</td>\n",
       "      <td>1.620249e+09</td>\n",
       "      <td>1.623224e+09</td>\n",
       "      <td>fffaf1658eb7</td>\n",
       "    </tr>\n",
       "    <tr>\n",
       "      <th>50163</th>\n",
       "      <td>33204.0</td>\n",
       "      <td>28597096.0</td>\n",
       "      <td>2050.0</td>\n",
       "      <td>1.0</td>\n",
       "      <td>1001.0</td>\n",
       "      <td>1001.0</td>\n",
       "      <td>838784.0</td>\n",
       "      <td>1.623889e+09</td>\n",
       "      <td>1.620248e+09</td>\n",
       "      <td>1.623224e+09</td>\n",
       "      <td>fffb0fc8c613</td>\n",
       "    </tr>\n",
       "    <tr>\n",
       "      <th>50164</th>\n",
       "      <td>33204.0</td>\n",
       "      <td>28595336.0</td>\n",
       "      <td>2050.0</td>\n",
       "      <td>1.0</td>\n",
       "      <td>1001.0</td>\n",
       "      <td>1001.0</td>\n",
       "      <td>838784.0</td>\n",
       "      <td>1.623883e+09</td>\n",
       "      <td>1.620248e+09</td>\n",
       "      <td>1.623224e+09</td>\n",
       "      <td>fffd1cad9995</td>\n",
       "    </tr>\n",
       "  </tbody>\n",
       "</table>\n",
       "<p>50165 rows × 11 columns</p>\n",
       "</div>"
      ],
      "text/plain": [
       "       st_mode      st_ino  st_dev  st_nlink  st_uid  st_gid  st_size=413  \\\n",
       "0      33204.0  28550494.0  2050.0       1.0  1001.0  1001.0     838784.0   \n",
       "1      33204.0  28548505.0  2050.0       1.0  1001.0  1001.0     838784.0   \n",
       "2      33204.0  28548561.0  2050.0       1.0  1001.0  1001.0     838784.0   \n",
       "3      33204.0  28550579.0  2050.0       1.0  1001.0  1001.0     838784.0   \n",
       "4      33204.0  28548195.0  2050.0       1.0  1001.0  1001.0     838784.0   \n",
       "...        ...         ...     ...       ...     ...     ...          ...   \n",
       "50160  33204.0  28596571.0  2050.0       1.0  1001.0  1001.0     838784.0   \n",
       "50161  33204.0  28595074.0  2050.0       1.0  1001.0  1001.0     838784.0   \n",
       "50162  33204.0  28596286.0  2050.0       1.0  1001.0  1001.0     838784.0   \n",
       "50163  33204.0  28597096.0  2050.0       1.0  1001.0  1001.0     838784.0   \n",
       "50164  33204.0  28595336.0  2050.0       1.0  1001.0  1001.0     838784.0   \n",
       "\n",
       "           st_atime      st_mtime      st_ctime            id  \n",
       "0      1.623883e+09  1.620249e+09  1.623224e+09  00034abb3629  \n",
       "1      1.623884e+09  1.620248e+09  1.623224e+09  0004300a0b9b  \n",
       "2      1.623885e+09  1.620248e+09  1.623224e+09  000453852fda  \n",
       "3      1.623884e+09  1.620248e+09  1.623224e+09  00047dfc96a9  \n",
       "4      1.623885e+09  1.620248e+09  1.623224e+09  0004be0baf70  \n",
       "...             ...           ...           ...           ...  \n",
       "50160  1.623885e+09  1.620247e+09  1.623224e+09  fff395e32a1e  \n",
       "50161  1.623885e+09  1.620247e+09  1.623224e+09  fff66bbc51db  \n",
       "50162  1.623882e+09  1.620249e+09  1.623224e+09  fffaf1658eb7  \n",
       "50163  1.623889e+09  1.620248e+09  1.623224e+09  fffb0fc8c613  \n",
       "50164  1.623883e+09  1.620248e+09  1.623224e+09  fffd1cad9995  \n",
       "\n",
       "[50165 rows x 11 columns]"
      ]
     },
     "execution_count": 3,
     "metadata": {},
     "output_type": "execute_result"
    }
   ],
   "source": [
    "leak_train"
   ]
  },
  {
   "cell_type": "code",
   "execution_count": 4,
   "id": "aware-superior",
   "metadata": {
    "execution": {
     "iopub.execute_input": "2021-06-18T07:57:27.715283Z",
     "iopub.status.busy": "2021-06-18T07:57:27.713736Z",
     "iopub.status.idle": "2021-06-18T07:57:27.719247Z",
     "shell.execute_reply": "2021-06-18T07:57:27.719844Z",
     "shell.execute_reply.started": "2021-06-17T08:22:59.20502Z"
    },
    "papermill": {
     "duration": 0.044513,
     "end_time": "2021-06-18T07:57:27.720005",
     "exception": false,
     "start_time": "2021-06-18T07:57:27.675492",
     "status": "completed"
    },
    "tags": []
   },
   "outputs": [
    {
     "data": {
      "text/html": [
       "<div>\n",
       "<style scoped>\n",
       "    .dataframe tbody tr th:only-of-type {\n",
       "        vertical-align: middle;\n",
       "    }\n",
       "\n",
       "    .dataframe tbody tr th {\n",
       "        vertical-align: top;\n",
       "    }\n",
       "\n",
       "    .dataframe thead th {\n",
       "        text-align: right;\n",
       "    }\n",
       "</style>\n",
       "<table border=\"1\" class=\"dataframe\">\n",
       "  <thead>\n",
       "    <tr style=\"text-align: right;\">\n",
       "      <th></th>\n",
       "      <th>st_mode</th>\n",
       "      <th>st_ino</th>\n",
       "      <th>st_dev</th>\n",
       "      <th>st_nlink</th>\n",
       "      <th>st_uid</th>\n",
       "      <th>st_gid</th>\n",
       "      <th>st_size=413</th>\n",
       "      <th>st_atime</th>\n",
       "      <th>st_mtime</th>\n",
       "      <th>st_ctime</th>\n",
       "      <th>id</th>\n",
       "    </tr>\n",
       "  </thead>\n",
       "  <tbody>\n",
       "    <tr>\n",
       "      <th>0</th>\n",
       "      <td>33204.0</td>\n",
       "      <td>28509454.0</td>\n",
       "      <td>2050.0</td>\n",
       "      <td>1.0</td>\n",
       "      <td>1001.0</td>\n",
       "      <td>1001.0</td>\n",
       "      <td>838784.0</td>\n",
       "      <td>1.623712e+09</td>\n",
       "      <td>1.620248e+09</td>\n",
       "      <td>1.623224e+09</td>\n",
       "      <td>00034db451c4</td>\n",
       "    </tr>\n",
       "    <tr>\n",
       "      <th>1</th>\n",
       "      <td>33204.0</td>\n",
       "      <td>28509123.0</td>\n",
       "      <td>2050.0</td>\n",
       "      <td>1.0</td>\n",
       "      <td>1001.0</td>\n",
       "      <td>1001.0</td>\n",
       "      <td>838784.0</td>\n",
       "      <td>1.623712e+09</td>\n",
       "      <td>1.620248e+09</td>\n",
       "      <td>1.623224e+09</td>\n",
       "      <td>0006316b5ca0</td>\n",
       "    </tr>\n",
       "    <tr>\n",
       "      <th>2</th>\n",
       "      <td>33204.0</td>\n",
       "      <td>28509007.0</td>\n",
       "      <td>2050.0</td>\n",
       "      <td>1.0</td>\n",
       "      <td>1001.0</td>\n",
       "      <td>1001.0</td>\n",
       "      <td>838784.0</td>\n",
       "      <td>1.623712e+09</td>\n",
       "      <td>1.620248e+09</td>\n",
       "      <td>1.623224e+09</td>\n",
       "      <td>0006a953d21b</td>\n",
       "    </tr>\n",
       "    <tr>\n",
       "      <th>3</th>\n",
       "      <td>33204.0</td>\n",
       "      <td>28510620.0</td>\n",
       "      <td>2050.0</td>\n",
       "      <td>1.0</td>\n",
       "      <td>1001.0</td>\n",
       "      <td>1001.0</td>\n",
       "      <td>838784.0</td>\n",
       "      <td>1.623712e+09</td>\n",
       "      <td>1.620248e+09</td>\n",
       "      <td>1.623224e+09</td>\n",
       "      <td>0008a33d6695</td>\n",
       "    </tr>\n",
       "    <tr>\n",
       "      <th>4</th>\n",
       "      <td>33204.0</td>\n",
       "      <td>28509884.0</td>\n",
       "      <td>2050.0</td>\n",
       "      <td>1.0</td>\n",
       "      <td>1001.0</td>\n",
       "      <td>1001.0</td>\n",
       "      <td>838784.0</td>\n",
       "      <td>1.623712e+09</td>\n",
       "      <td>1.620248e+09</td>\n",
       "      <td>1.623224e+09</td>\n",
       "      <td>00095b5119fc</td>\n",
       "    </tr>\n",
       "    <tr>\n",
       "      <th>...</th>\n",
       "      <td>...</td>\n",
       "      <td>...</td>\n",
       "      <td>...</td>\n",
       "      <td>...</td>\n",
       "      <td>...</td>\n",
       "      <td>...</td>\n",
       "      <td>...</td>\n",
       "      <td>...</td>\n",
       "      <td>...</td>\n",
       "      <td>...</td>\n",
       "      <td>...</td>\n",
       "    </tr>\n",
       "    <tr>\n",
       "      <th>35842</th>\n",
       "      <td>33204.0</td>\n",
       "      <td>28534246.0</td>\n",
       "      <td>2050.0</td>\n",
       "      <td>1.0</td>\n",
       "      <td>1001.0</td>\n",
       "      <td>1001.0</td>\n",
       "      <td>838784.0</td>\n",
       "      <td>1.623713e+09</td>\n",
       "      <td>1.620248e+09</td>\n",
       "      <td>1.623224e+09</td>\n",
       "      <td>ffeed3a168de</td>\n",
       "    </tr>\n",
       "    <tr>\n",
       "      <th>35843</th>\n",
       "      <td>33204.0</td>\n",
       "      <td>28535752.0</td>\n",
       "      <td>2050.0</td>\n",
       "      <td>1.0</td>\n",
       "      <td>1001.0</td>\n",
       "      <td>1001.0</td>\n",
       "      <td>838784.0</td>\n",
       "      <td>1.623713e+09</td>\n",
       "      <td>1.620249e+09</td>\n",
       "      <td>1.623224e+09</td>\n",
       "      <td>fff177e32aac</td>\n",
       "    </tr>\n",
       "    <tr>\n",
       "      <th>35844</th>\n",
       "      <td>33204.0</td>\n",
       "      <td>28534010.0</td>\n",
       "      <td>2050.0</td>\n",
       "      <td>1.0</td>\n",
       "      <td>1001.0</td>\n",
       "      <td>1001.0</td>\n",
       "      <td>838784.0</td>\n",
       "      <td>1.623713e+09</td>\n",
       "      <td>1.620248e+09</td>\n",
       "      <td>1.623224e+09</td>\n",
       "      <td>fff7d40b225a</td>\n",
       "    </tr>\n",
       "    <tr>\n",
       "      <th>35845</th>\n",
       "      <td>33204.0</td>\n",
       "      <td>28534078.0</td>\n",
       "      <td>2050.0</td>\n",
       "      <td>1.0</td>\n",
       "      <td>1001.0</td>\n",
       "      <td>1001.0</td>\n",
       "      <td>838784.0</td>\n",
       "      <td>1.623713e+09</td>\n",
       "      <td>1.620248e+09</td>\n",
       "      <td>1.623224e+09</td>\n",
       "      <td>fff8238a709f</td>\n",
       "    </tr>\n",
       "    <tr>\n",
       "      <th>35846</th>\n",
       "      <td>33204.0</td>\n",
       "      <td>28534485.0</td>\n",
       "      <td>2050.0</td>\n",
       "      <td>1.0</td>\n",
       "      <td>1001.0</td>\n",
       "      <td>1001.0</td>\n",
       "      <td>838784.0</td>\n",
       "      <td>1.623713e+09</td>\n",
       "      <td>1.620249e+09</td>\n",
       "      <td>1.623224e+09</td>\n",
       "      <td>fff882b197de</td>\n",
       "    </tr>\n",
       "  </tbody>\n",
       "</table>\n",
       "<p>35847 rows × 11 columns</p>\n",
       "</div>"
      ],
      "text/plain": [
       "       st_mode      st_ino  st_dev  st_nlink  st_uid  st_gid  st_size=413  \\\n",
       "0      33204.0  28509454.0  2050.0       1.0  1001.0  1001.0     838784.0   \n",
       "1      33204.0  28509123.0  2050.0       1.0  1001.0  1001.0     838784.0   \n",
       "2      33204.0  28509007.0  2050.0       1.0  1001.0  1001.0     838784.0   \n",
       "3      33204.0  28510620.0  2050.0       1.0  1001.0  1001.0     838784.0   \n",
       "4      33204.0  28509884.0  2050.0       1.0  1001.0  1001.0     838784.0   \n",
       "...        ...         ...     ...       ...     ...     ...          ...   \n",
       "35842  33204.0  28534246.0  2050.0       1.0  1001.0  1001.0     838784.0   \n",
       "35843  33204.0  28535752.0  2050.0       1.0  1001.0  1001.0     838784.0   \n",
       "35844  33204.0  28534010.0  2050.0       1.0  1001.0  1001.0     838784.0   \n",
       "35845  33204.0  28534078.0  2050.0       1.0  1001.0  1001.0     838784.0   \n",
       "35846  33204.0  28534485.0  2050.0       1.0  1001.0  1001.0     838784.0   \n",
       "\n",
       "           st_atime      st_mtime      st_ctime            id  \n",
       "0      1.623712e+09  1.620248e+09  1.623224e+09  00034db451c4  \n",
       "1      1.623712e+09  1.620248e+09  1.623224e+09  0006316b5ca0  \n",
       "2      1.623712e+09  1.620248e+09  1.623224e+09  0006a953d21b  \n",
       "3      1.623712e+09  1.620248e+09  1.623224e+09  0008a33d6695  \n",
       "4      1.623712e+09  1.620248e+09  1.623224e+09  00095b5119fc  \n",
       "...             ...           ...           ...           ...  \n",
       "35842  1.623713e+09  1.620248e+09  1.623224e+09  ffeed3a168de  \n",
       "35843  1.623713e+09  1.620249e+09  1.623224e+09  fff177e32aac  \n",
       "35844  1.623713e+09  1.620248e+09  1.623224e+09  fff7d40b225a  \n",
       "35845  1.623713e+09  1.620248e+09  1.623224e+09  fff8238a709f  \n",
       "35846  1.623713e+09  1.620249e+09  1.623224e+09  fff882b197de  \n",
       "\n",
       "[35847 rows x 11 columns]"
      ]
     },
     "execution_count": 4,
     "metadata": {},
     "output_type": "execute_result"
    }
   ],
   "source": [
    "leak_test"
   ]
  },
  {
   "cell_type": "code",
   "execution_count": 5,
   "id": "seventh-azerbaijan",
   "metadata": {
    "execution": {
     "iopub.execute_input": "2021-06-18T07:57:27.756731Z",
     "iopub.status.busy": "2021-06-18T07:57:27.755936Z",
     "iopub.status.idle": "2021-06-18T07:57:27.759468Z",
     "shell.execute_reply": "2021-06-18T07:57:27.760004Z",
     "shell.execute_reply.started": "2021-06-17T08:22:59.245118Z"
    },
    "papermill": {
     "duration": 0.024977,
     "end_time": "2021-06-18T07:57:27.760149",
     "exception": false,
     "start_time": "2021-06-18T07:57:27.735172",
     "status": "completed"
    },
    "tags": []
   },
   "outputs": [],
   "source": [
    "columns = [\"st_mtime\"]\n",
    "# leak_train.drop(\"id\",axis=1, inplace=True)\n",
    "leak_train = pd.DataFrame(leak_train,columns = columns)\n",
    "# leak_test.drop(\"id\",axis=1, inplace=True)\n",
    "leak_test = pd.DataFrame(leak_test, columns = columns)"
   ]
  },
  {
   "cell_type": "code",
   "execution_count": 6,
   "id": "aerial-collectible",
   "metadata": {
    "execution": {
     "iopub.execute_input": "2021-06-18T07:57:27.797443Z",
     "iopub.status.busy": "2021-06-18T07:57:27.796562Z",
     "iopub.status.idle": "2021-06-18T07:57:27.802788Z",
     "shell.execute_reply": "2021-06-18T07:57:27.802182Z",
     "shell.execute_reply.started": "2021-06-17T08:22:59.255735Z"
    },
    "papermill": {
     "duration": 0.027941,
     "end_time": "2021-06-18T07:57:27.802936",
     "exception": false,
     "start_time": "2021-06-18T07:57:27.774995",
     "status": "completed"
    },
    "tags": []
   },
   "outputs": [
    {
     "data": {
      "text/html": [
       "<div>\n",
       "<style scoped>\n",
       "    .dataframe tbody tr th:only-of-type {\n",
       "        vertical-align: middle;\n",
       "    }\n",
       "\n",
       "    .dataframe tbody tr th {\n",
       "        vertical-align: top;\n",
       "    }\n",
       "\n",
       "    .dataframe thead th {\n",
       "        text-align: right;\n",
       "    }\n",
       "</style>\n",
       "<table border=\"1\" class=\"dataframe\">\n",
       "  <thead>\n",
       "    <tr style=\"text-align: right;\">\n",
       "      <th></th>\n",
       "      <th>st_mtime</th>\n",
       "    </tr>\n",
       "  </thead>\n",
       "  <tbody>\n",
       "    <tr>\n",
       "      <th>0</th>\n",
       "      <td>1.620249e+09</td>\n",
       "    </tr>\n",
       "    <tr>\n",
       "      <th>1</th>\n",
       "      <td>1.620248e+09</td>\n",
       "    </tr>\n",
       "    <tr>\n",
       "      <th>2</th>\n",
       "      <td>1.620248e+09</td>\n",
       "    </tr>\n",
       "    <tr>\n",
       "      <th>3</th>\n",
       "      <td>1.620248e+09</td>\n",
       "    </tr>\n",
       "    <tr>\n",
       "      <th>4</th>\n",
       "      <td>1.620248e+09</td>\n",
       "    </tr>\n",
       "  </tbody>\n",
       "</table>\n",
       "</div>"
      ],
      "text/plain": [
       "       st_mtime\n",
       "0  1.620249e+09\n",
       "1  1.620248e+09\n",
       "2  1.620248e+09\n",
       "3  1.620248e+09\n",
       "4  1.620248e+09"
      ]
     },
     "execution_count": 6,
     "metadata": {},
     "output_type": "execute_result"
    }
   ],
   "source": [
    "leak_train.head()"
   ]
  },
  {
   "cell_type": "code",
   "execution_count": 7,
   "id": "pharmaceutical-bottom",
   "metadata": {
    "execution": {
     "iopub.execute_input": "2021-06-18T07:57:27.842760Z",
     "iopub.status.busy": "2021-06-18T07:57:27.838569Z",
     "iopub.status.idle": "2021-06-18T07:57:27.846406Z",
     "shell.execute_reply": "2021-06-18T07:57:27.846976Z",
     "shell.execute_reply.started": "2021-06-17T08:22:59.277273Z"
    },
    "papermill": {
     "duration": 0.029059,
     "end_time": "2021-06-18T07:57:27.847113",
     "exception": false,
     "start_time": "2021-06-18T07:57:27.818054",
     "status": "completed"
    },
    "tags": []
   },
   "outputs": [
    {
     "data": {
      "text/html": [
       "<div>\n",
       "<style scoped>\n",
       "    .dataframe tbody tr th:only-of-type {\n",
       "        vertical-align: middle;\n",
       "    }\n",
       "\n",
       "    .dataframe tbody tr th {\n",
       "        vertical-align: top;\n",
       "    }\n",
       "\n",
       "    .dataframe thead th {\n",
       "        text-align: right;\n",
       "    }\n",
       "</style>\n",
       "<table border=\"1\" class=\"dataframe\">\n",
       "  <thead>\n",
       "    <tr style=\"text-align: right;\">\n",
       "      <th></th>\n",
       "      <th>st_mtime</th>\n",
       "    </tr>\n",
       "  </thead>\n",
       "  <tbody>\n",
       "    <tr>\n",
       "      <th>0</th>\n",
       "      <td>1.620248e+09</td>\n",
       "    </tr>\n",
       "    <tr>\n",
       "      <th>1</th>\n",
       "      <td>1.620248e+09</td>\n",
       "    </tr>\n",
       "    <tr>\n",
       "      <th>2</th>\n",
       "      <td>1.620248e+09</td>\n",
       "    </tr>\n",
       "    <tr>\n",
       "      <th>3</th>\n",
       "      <td>1.620248e+09</td>\n",
       "    </tr>\n",
       "    <tr>\n",
       "      <th>4</th>\n",
       "      <td>1.620248e+09</td>\n",
       "    </tr>\n",
       "  </tbody>\n",
       "</table>\n",
       "</div>"
      ],
      "text/plain": [
       "       st_mtime\n",
       "0  1.620248e+09\n",
       "1  1.620248e+09\n",
       "2  1.620248e+09\n",
       "3  1.620248e+09\n",
       "4  1.620248e+09"
      ]
     },
     "execution_count": 7,
     "metadata": {},
     "output_type": "execute_result"
    }
   ],
   "source": [
    "leak_test.head()"
   ]
  },
  {
   "cell_type": "code",
   "execution_count": 8,
   "id": "buried-pound",
   "metadata": {
    "execution": {
     "iopub.execute_input": "2021-06-18T07:57:27.886717Z",
     "iopub.status.busy": "2021-06-18T07:57:27.885709Z",
     "iopub.status.idle": "2021-06-18T07:57:27.890193Z",
     "shell.execute_reply": "2021-06-18T07:57:27.890737Z",
     "shell.execute_reply.started": "2021-06-17T08:22:59.296877Z"
    },
    "papermill": {
     "duration": 0.02779,
     "end_time": "2021-06-18T07:57:27.890947",
     "exception": false,
     "start_time": "2021-06-18T07:57:27.863157",
     "status": "completed"
    },
    "tags": []
   },
   "outputs": [
    {
     "data": {
      "text/plain": [
       "'\\nimport pathlib \\n\\n#create path column\\ntrain_ids=train_df.id.values.tolist()\\nnumerical_train=[]\\nfor j in range(len(train_ids)):\\n            this_id=str(train_ids[j])\\n            paths=\"../input/seti-breakthrough-listen/train/\" +  this_id[0] +\"/\" + this_id + \".npy\"\\n            fname = pathlib.Path(paths) # <------- extract file created date and other stats related with the file\\n            stats=fname.stat()# <------- extract file created date and other stats related with the file\\n            stats=[float(j) for j in stats]\\n            numerical_train.append(stats)\\n            #path_ids.append(paths)\\n            \\nX=np.array(numerical_train)    \\n#train_df[\"path\"]=path_ids\\n\\n\\ntest_ids=submission.id.values.tolist()\\nnumerical_test=[]\\nfor j in range(len(test_ids)):\\n            this_id=str(test_ids[j])\\n            paths=\"../input/seti-breakthrough-listen/test/\" +  this_id[0] +\"/\" + this_id + \".npy\"\\n            fname = pathlib.Path(paths) # <------- extract file created date and other stats related with the file\\n            stats=fname.stat() # <------- extract file created date and other stats related with the file\\n            stats=[float(j) for j in stats]            \\n            numerical_test.append(stats)\\n            \\nX_test=np.array(numerical_test) \\n'"
      ]
     },
     "execution_count": 8,
     "metadata": {},
     "output_type": "execute_result"
    }
   ],
   "source": [
    "\n",
    "\n",
    "\"\"\"\n",
    "import pathlib \n",
    "\n",
    "#create path column\n",
    "train_ids=train_df.id.values.tolist()\n",
    "numerical_train=[]\n",
    "for j in range(len(train_ids)):\n",
    "            this_id=str(train_ids[j])\n",
    "            paths=\"../input/seti-breakthrough-listen/train/\" +  this_id[0] +\"/\" + this_id + \".npy\"\n",
    "            fname = pathlib.Path(paths) # <------- extract file created date and other stats related with the file\n",
    "            stats=fname.stat()# <------- extract file created date and other stats related with the file\n",
    "            stats=[float(j) for j in stats]\n",
    "            numerical_train.append(stats)\n",
    "            #path_ids.append(paths)\n",
    "            \n",
    "X=np.array(numerical_train)    \n",
    "#train_df[\"path\"]=path_ids\n",
    "\n",
    "\n",
    "test_ids=submission.id.values.tolist()\n",
    "numerical_test=[]\n",
    "for j in range(len(test_ids)):\n",
    "            this_id=str(test_ids[j])\n",
    "            paths=\"../input/seti-breakthrough-listen/test/\" +  this_id[0] +\"/\" + this_id + \".npy\"\n",
    "            fname = pathlib.Path(paths) # <------- extract file created date and other stats related with the file\n",
    "            stats=fname.stat() # <------- extract file created date and other stats related with the file\n",
    "            stats=[float(j) for j in stats]            \n",
    "            numerical_test.append(stats)\n",
    "            \n",
    "X_test=np.array(numerical_test) \n",
    "\"\"\""
   ]
  },
  {
   "cell_type": "code",
   "execution_count": 9,
   "id": "starting-vietnamese",
   "metadata": {
    "execution": {
     "iopub.execute_input": "2021-06-18T07:57:27.928081Z",
     "iopub.status.busy": "2021-06-18T07:57:27.927382Z",
     "iopub.status.idle": "2021-06-18T07:57:27.932405Z",
     "shell.execute_reply": "2021-06-18T07:57:27.931848Z",
     "shell.execute_reply.started": "2021-06-17T08:22:59.310213Z"
    },
    "papermill": {
     "duration": 0.025399,
     "end_time": "2021-06-18T07:57:27.932539",
     "exception": false,
     "start_time": "2021-06-18T07:57:27.907140",
     "status": "completed"
    },
    "tags": []
   },
   "outputs": [],
   "source": [
    "y=train_df.target"
   ]
  },
  {
   "cell_type": "code",
   "execution_count": 10,
   "id": "leading-morocco",
   "metadata": {
    "execution": {
     "iopub.execute_input": "2021-06-18T07:57:27.969489Z",
     "iopub.status.busy": "2021-06-18T07:57:27.968863Z",
     "iopub.status.idle": "2021-06-18T07:57:27.975463Z",
     "shell.execute_reply": "2021-06-18T07:57:27.976228Z",
     "shell.execute_reply.started": "2021-06-17T08:22:59.322395Z"
    },
    "papermill": {
     "duration": 0.02773,
     "end_time": "2021-06-18T07:57:27.976405",
     "exception": false,
     "start_time": "2021-06-18T07:57:27.948675",
     "status": "completed"
    },
    "tags": []
   },
   "outputs": [
    {
     "data": {
      "text/plain": [
       "(35847, 1)"
      ]
     },
     "execution_count": 10,
     "metadata": {},
     "output_type": "execute_result"
    }
   ],
   "source": [
    "leak_test_values = leak_test.values\n",
    "leak_test.values.shape"
   ]
  },
  {
   "cell_type": "code",
   "execution_count": 11,
   "id": "thorough-williams",
   "metadata": {
    "execution": {
     "iopub.execute_input": "2021-06-18T07:57:28.015228Z",
     "iopub.status.busy": "2021-06-18T07:57:28.014374Z",
     "iopub.status.idle": "2021-06-18T07:57:28.020994Z",
     "shell.execute_reply": "2021-06-18T07:57:28.020352Z",
     "shell.execute_reply.started": "2021-06-17T08:22:59.336734Z"
    },
    "papermill": {
     "duration": 0.028,
     "end_time": "2021-06-18T07:57:28.021125",
     "exception": false,
     "start_time": "2021-06-18T07:57:27.993125",
     "status": "completed"
    },
    "tags": []
   },
   "outputs": [
    {
     "data": {
      "text/plain": [
       "(1, 50165)"
      ]
     },
     "execution_count": 11,
     "metadata": {},
     "output_type": "execute_result"
    }
   ],
   "source": [
    "leak_train_values = leak_train.values.transpose([1, 0])\n",
    "leak_train_values.shape"
   ]
  },
  {
   "cell_type": "code",
   "execution_count": 12,
   "id": "sustainable-reader",
   "metadata": {
    "execution": {
     "iopub.execute_input": "2021-06-18T07:57:28.059740Z",
     "iopub.status.busy": "2021-06-18T07:57:28.059057Z",
     "iopub.status.idle": "2021-06-18T07:57:28.063210Z",
     "shell.execute_reply": "2021-06-18T07:57:28.064259Z",
     "shell.execute_reply.started": "2021-06-17T08:22:59.351753Z"
    },
    "papermill": {
     "duration": 0.025928,
     "end_time": "2021-06-18T07:57:28.064424",
     "exception": false,
     "start_time": "2021-06-18T07:57:28.038496",
     "status": "completed"
    },
    "tags": []
   },
   "outputs": [],
   "source": [
    "results = []"
   ]
  },
  {
   "cell_type": "code",
   "execution_count": 13,
   "id": "posted-netscape",
   "metadata": {
    "execution": {
     "iopub.execute_input": "2021-06-18T07:57:28.132911Z",
     "iopub.status.busy": "2021-06-18T07:57:28.131700Z",
     "iopub.status.idle": "2021-06-18T07:57:40.739921Z",
     "shell.execute_reply": "2021-06-18T07:57:40.738900Z",
     "shell.execute_reply.started": "2021-06-17T08:22:59.365385Z"
    },
    "papermill": {
     "duration": 12.658638,
     "end_time": "2021-06-18T07:57:40.740082",
     "exception": false,
     "start_time": "2021-06-18T07:57:28.081444",
     "status": "completed"
    },
    "tags": []
   },
   "outputs": [
    {
     "data": {
      "text/plain": [
       "(35847,)"
      ]
     },
     "execution_count": 13,
     "metadata": {},
     "output_type": "execute_result"
    }
   ],
   "source": [
    "leak_values = np.abs(leak_test_values[:10000] - leak_train_values)\n",
    "leak_values = leak_values.argmin(axis=1)\n",
    "test_preds = y.values[leak_values]\n",
    "results.append(test_preds)\n",
    "\n",
    "\n",
    "leak_values = np.abs(leak_test_values[10000:20000] - leak_train_values)\n",
    "leak_values = leak_values.argmin(axis=1)\n",
    "test_preds = y.values[leak_values]\n",
    "results.append(test_preds)\n",
    "\n",
    "leak_values = np.abs(leak_test_values[20000:] - leak_train_values)\n",
    "leak_values = leak_values.argmin(axis=1)\n",
    "test_preds = y.values[leak_values]\n",
    "results.append(test_preds)\n",
    "\n",
    "test_preds = np.concatenate(results, axis=0).astype(np.float32)\n",
    "\n",
    "test_preds.shape"
   ]
  },
  {
   "cell_type": "code",
   "execution_count": 14,
   "id": "considerable-sharp",
   "metadata": {
    "execution": {
     "iopub.execute_input": "2021-06-18T07:57:40.781281Z",
     "iopub.status.busy": "2021-06-18T07:57:40.780221Z",
     "iopub.status.idle": "2021-06-18T07:57:41.071773Z",
     "shell.execute_reply": "2021-06-18T07:57:41.071197Z",
     "shell.execute_reply.started": "2021-06-17T08:23:09.550248Z"
    },
    "papermill": {
     "duration": 0.314464,
     "end_time": "2021-06-18T07:57:41.071950",
     "exception": false,
     "start_time": "2021-06-18T07:57:40.757486",
     "status": "completed"
    },
    "tags": []
   },
   "outputs": [],
   "source": [
    "submission[\"target\"]=test_preds\n",
    "submission.to_csv(\"submission.csv\" , index=False)"
   ]
  }
 ],
 "metadata": {
  "kernelspec": {
   "display_name": "Python 3",
   "language": "python",
   "name": "python3"
  },
  "language_info": {
   "codemirror_mode": {
    "name": "ipython",
    "version": 3
   },
   "file_extension": ".py",
   "mimetype": "text/x-python",
   "name": "python",
   "nbconvert_exporter": "python",
   "pygments_lexer": "ipython3",
   "version": "3.8.8"
  },
  "papermill": {
   "default_parameters": {},
   "duration": 22.836041,
   "end_time": "2021-06-18T07:57:41.599312",
   "environment_variables": {},
   "exception": null,
   "input_path": "__notebook__.ipynb",
   "output_path": "__notebook__.ipynb",
   "parameters": {},
   "start_time": "2021-06-18T07:57:18.763271",
   "version": "2.3.3"
  }
 },
 "nbformat": 4,
 "nbformat_minor": 5
}
